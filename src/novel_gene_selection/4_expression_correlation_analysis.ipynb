{
 "cells": [
  {
   "cell_type": "code",
   "execution_count": null,
   "metadata": {},
   "outputs": [],
   "source": [
    "import numpy as np\n",
    "import pandas as pd\n",
    "import os\n",
    "import sys\n",
    "import matplotlib.pyplot as plt\n",
    "import pickle as pkl\n",
    "from tqdm.notebook import tqdm\n",
    "from scipy.stats import pearsonr\n",
    "from itertools import product\n",
    "from util import *\n",
    "import seaborn as sns\n",
    "\n",
    "%matplotlib inline"
   ]
  },
  {
   "cell_type": "markdown",
   "metadata": {},
   "source": [
    "### Define paths"
   ]
  },
  {
   "cell_type": "code",
   "execution_count": null,
   "metadata": {},
   "outputs": [],
   "source": [
    "# Input files\n",
    "ESSENTIAL_GENES = \"results/essential_candidates/public_20Q2/essential_genes_annotated.pkl\"\n",
    "NCBI_GENE_NAMES = 'data/misc/ncbi_gene_names.pkl'\n",
    "\n",
    "# Output files\n",
    "RESULTS_FILE = 'results/essential_candidates/public_20Q2/expression_correlations.pkl'"
   ]
  },
  {
   "cell_type": "markdown",
   "metadata": {},
   "source": [
    "## 1.  Load data"
   ]
  },
  {
   "cell_type": "markdown",
   "metadata": {},
   "source": [
    "### Load identified genes"
   ]
  },
  {
   "cell_type": "code",
   "execution_count": null,
   "metadata": {},
   "outputs": [],
   "source": [
    "identified_genes = pd.read_pickle(ESSENTIAL_GENES)\n",
    "identified_genes.head()"
   ]
  },
  {
   "cell_type": "markdown",
   "metadata": {},
   "source": [
    "### Load effect data"
   ]
  },
  {
   "cell_type": "code",
   "execution_count": null,
   "metadata": {},
   "outputs": [],
   "source": [
    "eff_data = get_from_taiga(name='public-20q2-075d', version=22, file='Achilles_gene_effect',\n",
    "                          split_attribute='header')\n",
    "eff_data.head()"
   ]
  },
  {
   "cell_type": "markdown",
   "metadata": {},
   "source": [
    "### Load expression data"
   ]
  },
  {
   "cell_type": "code",
   "execution_count": null,
   "metadata": {
    "scrolled": false
   },
   "outputs": [],
   "source": [
    "exp_data = get_from_taiga(name='public-20q2-075d', version=22, file='CCLE_expression',\n",
    "                          split_attribute='header')\n",
    "exp_data.head()"
   ]
  },
  {
   "cell_type": "markdown",
   "metadata": {},
   "source": [
    "### Load cell line info"
   ]
  },
  {
   "cell_type": "code",
   "execution_count": null,
   "metadata": {},
   "outputs": [],
   "source": [
    "cell_line_inf = get_from_taiga(name='public-20q2-075d', version=22, file='sample_info')\n",
    "cell_line_inf.set_index('DepMap_ID', inplace=True)\n",
    "\n",
    "cell_line_inf.loc[(cell_line_inf['lineage_subtype']=='ALL') &\n",
    "                  (cell_line_inf['lineage_sub_subtype'].str.contains('t')), 'lineage_subtype'] = 't-ALL'\n",
    "cell_line_inf.loc[(cell_line_inf['lineage_subtype']=='ALL') &\n",
    "                  (cell_line_inf['lineage_sub_subtype'].str.contains('b')), 'lineage_subtype'] = 'b-ALL'\n",
    "\n",
    "cell_line_inf['specified_disease'] = cell_line_inf.loc[cell_line_inf.lineage_subtype.isin(PEDIATRIC_CANCERS)\n",
    "                                                      ].lineage_subtype\n",
    "cell_line_inf.specified_disease.fillna(cell_line_inf.primary_disease, inplace=True)\n",
    "\n",
    "diseases = cell_line_inf.specified_disease.unique()\n",
    "\n",
    "cell_line_inf.head()"
   ]
  },
  {
   "cell_type": "code",
   "execution_count": null,
   "metadata": {
    "scrolled": true
   },
   "outputs": [],
   "source": [
    "with open(NCBI_GENE_NAMES, 'rb') as f:\n",
    "    ncbi_gene_names = pkl.load(f)\n",
    "\n",
    "def get_gene_name(geneID):\n",
    "    if geneID not in ncbi_gene_names:\n",
    "        Entrez.email = \"test@gmail.com\"\n",
    "        handle = Entrez.efetch(\"gene\", id=str(geneID), rettype=\"gene_table\", retmode=\"text\")\n",
    "        info = handle.readline().split()\n",
    "        name = info[0]\n",
    "        ncbi_gene_names[geneID] = f\"{name} ({geneID})\", f\"{' '.join(info[1:]).strip()}\"\n",
    "        with open(NCBI_GENE_NAMES, 'wb') as f:\n",
    "            pkl.dump(ncbi_gene_names, f)\n",
    "    return ncbi_gene_names[geneID]"
   ]
  },
  {
   "cell_type": "markdown",
   "metadata": {},
   "source": [
    "## 2.  Find correlations between genes and paralogs"
   ]
  },
  {
   "cell_type": "code",
   "execution_count": null,
   "metadata": {},
   "outputs": [],
   "source": [
    "def get_correlation(cell_lines, dep_gene, exp_gene):\n",
    "    d = eff_data.loc[cell_lines, dep_gene].values.flatten().astype(np.float64)\n",
    "    e = exp_data.loc[cell_lines, exp_gene].values.flatten().astype(np.float64)\n",
    "    \n",
    "    # Filter out NaNs from both lists\n",
    "    nan_filter = ~(np.isnan(d)+np.isnan(e))\n",
    "    \n",
    "    if len(d[nan_filter]) < 3:\n",
    "        return np.nan\n",
    "    \n",
    "    return pearsonr(d[nan_filter], e[nan_filter])[0]  # TODO: doe iets met de p_value?"
   ]
  },
  {
   "cell_type": "code",
   "execution_count": null,
   "metadata": {
    "scrolled": false
   },
   "outputs": [],
   "source": [
    "thres = .3\n",
    "cell_lines = set(eff_data.index).intersection(exp_data.index)\n",
    "\n",
    "results = {\n",
    "    \"geneID\": [],\n",
    "    \"gene\": [],\n",
    "    \"n_paralogs\": [],\n",
    "    \"avg_correlation_all_paralogs\": [],\n",
    "    \"max_correlation_all_paralogs\": [],\n",
    "    \"max_disease_specific_all\": [],\n",
    "    \"avg_correlation_interacting_paralogs\": [],\n",
    "    \"max_correlation_interacting_paralogs\": [],\n",
    "    \"max_disease_specific_interacting\": [],\n",
    "    \"correlations\": [],\n",
    "    \"disease_specific_correlations\": [],\n",
    "}\n",
    "\n",
    "not_found = 0\n",
    "\n",
    "for idx, row in tqdm(identified_genes.iterrows(), total=len(identified_genes)):\n",
    "    paralogs = row.paralogs\n",
    "    interacting_paralogs = row.interacting_paralogs\n",
    "    \n",
    "    correlations = {}\n",
    "    correlations_per_disease = {}\n",
    "    max_disease_specific = {}\n",
    "    \n",
    "    # IDEA: only look at interacting paralogs?\n",
    "    for paralog in paralogs:\n",
    "        if idx in eff_data.columns and paralog in exp_data.columns: \n",
    "            corr = get_correlation(cell_lines, idx, paralog)\n",
    "            # If d or e is very small or constant corr will be NaN\n",
    "            if corr is not np.nan:\n",
    "                correlations[paralog] = corr\n",
    "                correlations_per_disease[paralog] = {}\n",
    "                for disease in diseases:\n",
    "                    disease_lines = cell_lines.intersection(cell_line_inf.loc[\n",
    "                                                            cell_line_inf.specified_disease == disease].index)\n",
    "                    corr = get_correlation(disease_lines, idx, paralog)\n",
    "                    if corr is not np.nan:\n",
    "                        correlations_per_disease[paralog][disease] = corr\n",
    "                max_disease_specific[paralog] = max(correlations_per_disease[paralog].items(), \n",
    "                                                    key=lambda x: x[1])\n",
    "    \n",
    "    if len(correlations) > 0:\n",
    "        results[\"geneID\"].append(idx)\n",
    "        results[\"gene\"].append(row.gene)\n",
    "        results[\"n_paralogs\"].append(len(paralogs))\n",
    "        \n",
    "        results[\"avg_correlation_all_paralogs\"].append(np.median(list(correlations.values())))\n",
    "        results[\"max_correlation_all_paralogs\"].append(max(list(correlations.values())))\n",
    "        results[\"max_disease_specific_all\"].append(max(max_disease_specific.items(), key=lambda x: x[1][1]))\n",
    "        \n",
    "        interacting_correlations = [c for p, c in correlations.items() if p in interacting_paralogs]\n",
    "        if len(interacting_correlations) > 0:\n",
    "            results[\"avg_correlation_interacting_paralogs\"].append(np.median(interacting_correlations))\n",
    "            results[\"max_correlation_interacting_paralogs\"].append(max(interacting_correlations))\n",
    "            results[\"max_disease_specific_interacting\"].append(max({p: c \n",
    "                                                                    for p, c in max_disease_specific.items() \n",
    "                                                                    if p in interacting_paralogs}.items(), \n",
    "                                                                   key=lambda x: x[1][1]))\n",
    "        else:\n",
    "            results[\"avg_correlation_interacting_paralogs\"].append(None)\n",
    "            results[\"max_correlation_interacting_paralogs\"].append(None)\n",
    "            results[\"max_disease_specific_interacting\"].append(None)\n",
    "            \n",
    "        results[\"correlations\"].append(correlations)\n",
    "        results[\"disease_specific_correlations\"].append(correlations_per_disease)\n",
    "    else:\n",
    "        not_found += 1You \n",
    "        print(f\"For gene {idx} no (significant) correlations found...\")\n",
    "        print(f\"There were {len(paralogs)} evaluations.\")\n",
    "\n",
    "if not_found > 0:\n",
    "    print(f\"For {not_found} genes no correlations were determined!\")\n",
    "    \n",
    "results = pd.DataFrame(results).set_index('geneID')\n",
    "results"
   ]
  },
  {
   "cell_type": "markdown",
   "metadata": {},
   "source": [
    "## 3.  Results"
   ]
  },
  {
   "cell_type": "code",
   "execution_count": null,
   "metadata": {
    "scrolled": false
   },
   "outputs": [],
   "source": [
    "cell_lines = set(eff_data.index).intersection(exp_data.index)\n",
    "\n",
    "def make_plot(gene_id, paralog_id, diseases):\n",
    "    d = eff_data.loc[cell_lines, gene_id].values.flatten().astype(float)\n",
    "    e = exp_data.loc[cell_lines, paralog_id].values.flatten().astype(float)\n",
    "    \n",
    "    sns.set_style(\"whitegrid\")\n",
    "    fig=plt.figure(figsize=(13, 6), dpi=124, facecolor='w', edgecolor='k')\n",
    "    \n",
    "    sns.regplot(d, e, ci=None,\n",
    "                line_kws=dict(color=\"#d71d24\", label=f\"Correlation across all lines (Pearson R = {results.loc[gene_id].correlations[paralog_id]:.2f})\"),\n",
    "                label=f\"All cancer cell lines (n = {len(cell_lines)})\")\n",
    "    for disease in diseases:\n",
    "        dis_lines = set(cell_line_inf.loc[cell_line_inf.specified_disease == disease].index).intersection(cell_lines)\n",
    "        d = eff_data.loc[dis_lines, gene_id].values.flatten().astype(float)\n",
    "        e = exp_data.loc[dis_lines, paralog_id].values.flatten().astype(float)\n",
    "        sns.regplot(d, e, ci=None, label=f\"{disease} lines (n = {len(dis_lines)})\", line_kws=dict(label=f\"{disease} specific correlation (Pearson R = {results.loc[gene_id].disease_specific_correlations[paralog_id][disease]:.2f})\"))\n",
    "    \n",
    "    plt.xlabel(f\"{results.gene[gene_id]} ({gene_id}) gene effect (CERES)\")\n",
    "    plt.ylabel(f\"{results.gene[paralog_id]} ({paralog_id}) expression (log2(TPM+1))\")\n",
    "    plt.legend(loc=\"lower right\")\n",
    "    plt.show()"
   ]
  },
  {
   "cell_type": "code",
   "execution_count": null,
   "metadata": {},
   "outputs": [],
   "source": [
    "make_plot(29107, 55916, [\"neuroblastoma\"])"
   ]
  },
  {
   "cell_type": "code",
   "execution_count": null,
   "metadata": {},
   "outputs": [],
   "source": [
    "def rem_nans(x):\n",
    "    return x[~np.isnan(x)]\n",
    "np.percentile(rem_nans(results.max_correlation_interacting_paralogs), 95)"
   ]
  },
  {
   "cell_type": "code",
   "execution_count": null,
   "metadata": {},
   "outputs": [],
   "source": [
    "# Genes of interest to highlight in plot\n",
    "GOI = [10006, 483, 23545, 1000, 8450, 131118, 1871, 63916, 2625, 9759,\n",
    "       3845, 10905, 4170, 29107, 9943, 5290, 6688, 27183, 9525, 7454]\n",
    "\n",
    "df = pd.melt(results[[\"max_correlation_all_paralogs\", \"max_correlation_interacting_paralogs\", \"avg_correlation_all_paralogs\", \"avg_correlation_interacting_paralogs\"]].reset_index(), id_vars='geneID')#, \"max_disease_specific_interacting_value\", \"max_disease_specific_all_value\"]])\n",
    "df[\"Paralog group\"] = [\"All paralogs\" if i else \"Interacting paralogs\" for i in df.variable.str.contains(\"all\")]\n",
    "df[\"minmax\"] = [\"Average of paralogs\" if not i else \"Max disease specific correlation\" if j else \"Max of paralogs\" for i, j in zip(df.variable.str.contains(\"max\"), df.variable.str.contains(\"disease\"))]\n",
    "df\n",
    "\n",
    "sns.set_style(\"whitegrid\")\n",
    "fig=plt.figure(figsize=(12, 4), dpi=124, facecolor='w', edgecolor='k')\n",
    "\n",
    "sns.boxplot(y=\"minmax\", x=\"value\", hue=\"Paralog group\", data=df, orient=\"h\")\n",
    "\n",
    "sns.swarmplot(y=\"minmax\", x=\"value\", hue=\"Paralog group\", data=df.loc[df.geneID.isin(GOI)],\n",
    "              dodge=True, palette=(\"gold\", \"gold\"))\n",
    "\n",
    "plt.xlabel(\"Expression correlation (Pearson R)\")\n",
    "plt.ylabel(None)\n",
    "plt.vlines(.24, -.5, 1.5, \"#d71d24\", \"--\", label=\"Selection cutoff\")\n",
    "\n",
    "handles, labels = plt.gca().get_legend_handles_labels()\n",
    "del(handles[-2])\n",
    "\n",
    "plt.legend(handles, ['All paralogs', 'Interacting paralogs', 'Selected candidates', 'Selection cutoff'])\n",
    "\n",
    "plt.show()"
   ]
  },
  {
   "cell_type": "markdown",
   "metadata": {},
   "source": [
    "### Save results"
   ]
  },
  {
   "cell_type": "code",
   "execution_count": null,
   "metadata": {},
   "outputs": [],
   "source": [
    "results.to_pickle(RESULTS_FILE)"
   ]
  }
 ],
 "metadata": {
  "kernelspec": {
   "display_name": "Python 3",
   "language": "python",
   "name": "python3"
  },
  "language_info": {
   "codemirror_mode": {
    "name": "ipython",
    "version": 3
   },
   "file_extension": ".py",
   "mimetype": "text/x-python",
   "name": "python",
   "nbconvert_exporter": "python",
   "pygments_lexer": "ipython3",
   "version": "3.7.6"
  }
 },
 "nbformat": 4,
 "nbformat_minor": 4
}
