{
 "cells": [
  {
   "cell_type": "code",
   "execution_count": null,
   "metadata": {},
   "outputs": [],
   "source": [
    "import numpy as np\n",
    "import pandas as pd\n",
    "import os\n",
    "import sys\n",
    "import matplotlib.pyplot as plt\n",
    "import pickle as pkl\n",
    "from tqdm.notebook import tqdm\n",
    "from scipy.stats import ttest_ind, chi2_contingency\n",
    "from util import *\n",
    "from scipy.stats import pearsonr, norm\n",
    "from bio import Entrez\n",
    "import seaborn as sns\n",
    "from statsmodels.stats.multitest import multipletests\n",
    "\n",
    "%matplotlib inline"
   ]
  },
  {
   "cell_type": "markdown",
   "metadata": {},
   "source": [
    "### Define paths"
   ]
  },
  {
   "cell_type": "code",
   "execution_count": null,
   "metadata": {},
   "outputs": [],
   "source": [
    "# Input files\n",
    "# Previous results\n",
    "CORRELATION_DATA = 'results/essential_candidates/public_20Q2/expression_correlations.pkl'\n",
    "ESSENTIAL_GENES  = 'results/essential_candidates/public_20Q2/essential_genes-all.pkl'\n",
    "INTERACTION_DATA = \"results/essential_candidates/public_20Q2/essential_genes_annotated.pkl\"\n",
    "\n",
    "# New datasets\n",
    "TREEHOUSE_DATA   = 'data/treehouse/treehouse_depmap_genes.csv'\n",
    "TREEHOUSE_INFO   = 'data/treehouse/clinical_TumorCompendium_v11_PolyA_2020-04-09.tsv'\n",
    "TH_DM_MAP        = 'data/treehouse/th_dm_map.csv'\n",
    "\n",
    "NCBI_GENE_NAMES  = 'data/misc/ncbi_gene_names.pkl'\n",
    "\n",
    "# Output files\n",
    "RESULTS_FILE = 'results/essential_candidates/public_20Q2/added_features_median_padj.pkl'"
   ]
  },
  {
   "cell_type": "markdown",
   "metadata": {},
   "source": [
    "## 1.  Load data"
   ]
  },
  {
   "cell_type": "markdown",
   "metadata": {},
   "source": [
    "### Load candidate gene data"
   ]
  },
  {
   "cell_type": "code",
   "execution_count": null,
   "metadata": {},
   "outputs": [],
   "source": [
    "gene_list = pd.concat([pd.read_pickle(CORRELATION_DATA).gene, \n",
    "                       pd.read_pickle(ESSENTIAL_GENES).cell_lines,\n",
    "                       pd.read_pickle(INTERACTION_DATA).paralogs],\n",
    "                      axis=1, join='inner')\n",
    "gene_list.head()"
   ]
  },
  {
   "cell_type": "markdown",
   "metadata": {},
   "source": [
    "### Load cell line info"
   ]
  },
  {
   "cell_type": "code",
   "execution_count": null,
   "metadata": {},
   "outputs": [],
   "source": [
    "cell_line_inf = get_from_taiga(name='public-20q2-075d', version=22, file='sample_info')\n",
    "cell_line_inf.set_index('DepMap_ID', inplace=True)\n",
    "\n",
    "cell_line_inf.loc[(cell_line_inf['lineage_subtype']=='ALL') &\n",
    "                  (cell_line_inf['lineage_sub_subtype'].str.contains('t')), 'lineage_subtype'] = 't-ALL'\n",
    "cell_line_inf.loc[(cell_line_inf['lineage_subtype']=='ALL') &\n",
    "                  (cell_line_inf['lineage_sub_subtype'].str.contains('b')), 'lineage_subtype'] = 'b-ALL'\n",
    "\n",
    "cell_line_inf['specified_disease'] = cell_line_inf.loc[cell_line_inf.lineage_subtype.isin(PEDIATRIC_CANCERS)\n",
    "                                                      ].lineage_subtype\n",
    "cell_line_inf.specified_disease.fillna(cell_line_inf.primary_disease, inplace=True)\n",
    "\n",
    "diseases = cell_line_inf.specified_disease.unique()\n",
    "\n",
    "cell_line_inf.head()"
   ]
  },
  {
   "cell_type": "markdown",
   "metadata": {},
   "source": [
    "### Load gene effect data"
   ]
  },
  {
   "cell_type": "code",
   "execution_count": null,
   "metadata": {},
   "outputs": [],
   "source": [
    "eff_data = get_from_taiga(name='public-20q2-075d', version=22, file='Achilles_gene_effect',\n",
    "                          split_attribute='header')\n",
    "eff_data.head()"
   ]
  },
  {
   "cell_type": "markdown",
   "metadata": {},
   "source": [
    "### Load DepMap prediction data"
   ]
  },
  {
   "cell_type": "code",
   "execution_count": null,
   "metadata": {},
   "outputs": [],
   "source": [
    "pred_data = get_from_taiga(name='tda-ensemble-predictions-3293', version=5, file='Avana_pred_models',\n",
    "                           split_attribute='column', col='gene')\n",
    "pred_data.head()"
   ]
  },
  {
   "cell_type": "code",
   "execution_count": null,
   "metadata": {},
   "outputs": [],
   "source": [
    "pred_data.loc[pred_data.best]"
   ]
  },
  {
   "cell_type": "markdown",
   "metadata": {},
   "source": [
    "### Load mutation data"
   ]
  },
  {
   "cell_type": "code",
   "execution_count": null,
   "metadata": {},
   "outputs": [],
   "source": [
    "mut_data = get_from_taiga(name='public-20q2-075d', version=22, file='CCLE_mutations')\n",
    "mut_data.head()"
   ]
  },
  {
   "cell_type": "markdown",
   "metadata": {},
   "source": [
    "### Load Treehouse expression data"
   ]
  },
  {
   "cell_type": "code",
   "execution_count": null,
   "metadata": {},
   "outputs": [],
   "source": [
    "treehouse_data = pd.read_csv(TREEHOUSE_DATA, index_col=0)\n",
    "treehouse_data.head()"
   ]
  },
  {
   "cell_type": "markdown",
   "metadata": {},
   "source": [
    "### Load Treehouse info"
   ]
  },
  {
   "cell_type": "code",
   "execution_count": null,
   "metadata": {},
   "outputs": [],
   "source": [
    "treehouse_info = pd.read_csv(TREEHOUSE_INFO, sep='\\t', index_col=0)\n",
    "treehouse_info.head()"
   ]
  },
  {
   "cell_type": "code",
   "execution_count": null,
   "metadata": {},
   "outputs": [],
   "source": [
    "with open(NCBI_GENE_NAMES, 'rb') as f:\n",
    "    ncbi_gene_names = pkl.load(f)\n",
    "\n",
    "def get_gene_name(geneID):\n",
    "    if geneID not in ncbi_gene_names:\n",
    "        Entrez.email = \"test@gmail.com\"\n",
    "        handle = Entrez.efetch(\"gene\", id=str(geneID), rettype=\"gene_table\", retmode=\"text\")\n",
    "        info = handle.readline().split()\n",
    "        name = info[0]\n",
    "        ncbi_gene_names[geneID] = f\"{name} ({geneID})\", f\"{' '.join(info[1:]).strip()}\"\n",
    "        with open(NCBI_GENE_NAMES, 'wb') as f:\n",
    "            pkl.dump(ncbi_gene_names, f)\n",
    "    return ncbi_gene_names[geneID]"
   ]
  },
  {
   "cell_type": "markdown",
   "metadata": {},
   "source": [
    "### Load Treehouse-DepMap disease mapping"
   ]
  },
  {
   "cell_type": "code",
   "execution_count": null,
   "metadata": {},
   "outputs": [],
   "source": [
    "th_dm_map = pd.read_csv(TH_DM_MAP, sep=\"\\t\")\n",
    "th_dm_map.head()"
   ]
  },
  {
   "cell_type": "code",
   "execution_count": null,
   "metadata": {},
   "outputs": [],
   "source": [
    "dm_th_disease_map = {d: [] for d in DISEASES}\n",
    "for d in set(th_dm_map.depmap_name):\n",
    "    dm_th_disease_map[d] = list(th_dm_map.loc[th_dm_map.depmap_name == d, \"treehouse_name\"])\n",
    "\n",
    "dm_th_disease_map"
   ]
  },
  {
   "cell_type": "markdown",
   "metadata": {},
   "source": [
    "## 2.  Annotate genes"
   ]
  },
  {
   "cell_type": "markdown",
   "metadata": {},
   "source": [
    "### Add enrichment info"
   ]
  },
  {
   "cell_type": "code",
   "execution_count": null,
   "metadata": {},
   "outputs": [],
   "source": [
    "def get_enrichments(sample_id, data, idx_category_map, category_field, idx_field=None, skewed=None, p_cutoff=.05):\n",
    "    assert skewed in [None, 'left', 'right']\n",
    "    categories  = set(idx_category_map[category_field])\n",
    "    if idx_field is None:\n",
    "        total_data = data.loc[idx_category_map.index, sample_id]\n",
    "    else:\n",
    "        total_data = data.loc[idx_category_map[idx_field], sample_id]\n",
    "        \n",
    "    enriched_categories = {}\n",
    "    for cat in categories:\n",
    "        if idx_field is None:\n",
    "            a = total_data.loc[idx_category_map.loc[idx_category_map[category_field] == cat].index]\n",
    "            b = total_data.loc[idx_category_map.loc[idx_category_map[category_field] != cat].index]\n",
    "        else:\n",
    "            a = total_data.loc[idx_category_map.loc[idx_category_map[category_field] == cat, idx_field]]\n",
    "            b = total_data.loc[idx_category_map.loc[idx_category_map[category_field] != cat, idx_field]]\n",
    "            \n",
    "        if len(a) > 2 and len(b) > 2:\n",
    "            if skewed == 'left' and np.median(a.values) >= np.median(b.values):\n",
    "                continue\n",
    "            elif skewed == 'right' and np.median(a.values) <= np.median(b.values):\n",
    "                continue\n",
    "            t, p = ttest_ind(a, b, axis=None)\n",
    "            if p_cutoff is None or p < p_cutoff:\n",
    "                enriched_categories[cat] = dict(p=p, n=len(a))\n",
    "    return enriched_categories"
   ]
  },
  {
   "cell_type": "code",
   "execution_count": null,
   "metadata": {},
   "outputs": [],
   "source": [
    "enriched_diseases = {\"gene\": [], \"enr_d\": [], \"p_val\": [], \"n\": []}\n",
    "for geneID, row in tqdm(gene_list.iterrows(), total=len(gene_list)):\n",
    "    cell_lines = cell_line_inf.loc[set(row.cell_lines).intersection(eff_data.index)]\n",
    "    enr_d = get_enrichments(geneID, eff_data, cell_lines, 'specified_disease',\n",
    "                                       skewed='left', p_cutoff=None)\n",
    "    for d in enr_d:\n",
    "        enriched_diseases[\"gene\"].append(geneID)\n",
    "        enriched_diseases[\"enr_d\"].append(d)\n",
    "        enriched_diseases[\"p_val\"].append(enr_d[d][\"p\"])\n",
    "        enriched_diseases[\"n\"].append(enr_d[d][\"n\"])\n",
    "    \n",
    "enriched_diseases = pd.DataFrame(enriched_diseases)\n",
    "\n",
    "reject, p_adj, _, _ = multipletests(enriched_diseases.p_val, method='fdr_bh')\n",
    "enriched_diseases[\"p_adj\"] = p_adj\n",
    "\n",
    "for geneID, row in gene_list.iterrows():\n",
    "    enrichments = {}\n",
    "    for _, inf in enriched_diseases.loc[enriched_diseases.gene == geneID].iterrows():\n",
    "        if inf.p_adj < 0.1:\n",
    "            enrichments[inf.enr_d] = dict(p=inf.p_adj, n=inf.n)\n",
    "    gene_list.loc[geneID, 'enriched_diseases'] = [enrichments]\n",
    "\n",
    "gene_list"
   ]
  },
  {
   "cell_type": "markdown",
   "metadata": {},
   "source": [
    "### Add DepMap prediction info"
   ]
  },
  {
   "cell_type": "code",
   "execution_count": null,
   "metadata": {
    "scrolled": true
   },
   "outputs": [],
   "source": [
    "predictions = pred_data.loc[pred_data.best]\n",
    "\n",
    "for geneID, row in tqdm(gene_list.iterrows(), total=len(gene_list)):\n",
    "    pred_paralogs = {}\n",
    "    if geneID in pred_data.index:\n",
    "        for i in range(10):\n",
    "            prediction, feature = predictions.loc[geneID, f\"feature{i}\"].split('_', 1)\n",
    "            if ' ' not in prediction:\n",
    "                continue\n",
    "            \n",
    "            try:\n",
    "                pred_id = int(prediction.split(' ', 1)[1].strip('()'))\n",
    "                \n",
    "                if pred_id in row.paralogs:\n",
    "                    pred_paralogs[pred_id] = predictions.loc[geneID, f\"feature{i}_importance\"]\n",
    "                    \n",
    "            except ValueError as e:\n",
    "                print(geneID)\n",
    "                print(i, prediction)\n",
    "\n",
    "    gene_list.loc[geneID, 'paralog_predict_score'] = [pred_paralogs]\n",
    "    \n",
    "gene_list"
   ]
  },
  {
   "cell_type": "markdown",
   "metadata": {},
   "source": [
    "### Add mutation correlations"
   ]
  },
  {
   "cell_type": "code",
   "execution_count": null,
   "metadata": {},
   "outputs": [],
   "source": [
    "mut_data.loc[mut_data.Variant_Classification != 'Silent', \n",
    "                         ['Hugo_Symbol', 'Entrez_Gene_Id', 'DepMap_ID', 'Variant_Classification']\n",
    "                        ]"
   ]
  },
  {
   "cell_type": "code",
   "execution_count": null,
   "metadata": {},
   "outputs": [],
   "source": [
    "def get_correlation(data1, data2, min_points=3):\n",
    "    x = data1.flatten().astype(np.float64)\n",
    "    y = data2.flatten().astype(np.float64)\n",
    "    \n",
    "    # Filter out NaNs from both lists\n",
    "    nan_filter = ~(np.isnan(x)+np.isnan(y))\n",
    "    \n",
    "    if len(x[nan_filter]) < min_points:\n",
    "        return np.nan\n",
    "    \n",
    "    return pearsonr(x[nan_filter], y[nan_filter])[0]  # TODO: doe iets met de p_value?"
   ]
  },
  {
   "cell_type": "code",
   "execution_count": null,
   "metadata": {},
   "outputs": [],
   "source": [
    "mutations = {}\n",
    "for geneID, cell_line in mut_data.loc[mut_data.Variant_annotation.isin(['damaging', 'other non-conserving']),\n",
    "                                      ['Entrez_Gene_Id', 'DepMap_ID']].values:\n",
    "    if geneID not in mutations:\n",
    "        mutations[geneID] = set()\n",
    "    mutations[geneID].add(cell_line)\n",
    "mutations"
   ]
  },
  {
   "cell_type": "code",
   "execution_count": null,
   "metadata": {},
   "outputs": [],
   "source": [
    "all_muts = [get_correlation(eff_data[geneID].values, np.array([1. if cell_line in mutations[paralog] else 0.\n",
    "                                                               for cell_line in eff_data.index]))\n",
    "            for geneID, row in tqdm(gene_list.iterrows(), total=len(gene_list))\n",
    "            for paralog in row.paralogs if paralog in mutations]\n",
    "all_muts = [x for x in all_muts if x is not np.nan]\n",
    "mut_corr_avg = np.mean(all_muts)\n",
    "mut_corr_std = np.std(all_muts)\n",
    "print(mut_corr_avg, mut_corr_std)"
   ]
  },
  {
   "cell_type": "code",
   "execution_count": null,
   "metadata": {},
   "outputs": [],
   "source": [
    "sns.set_style(\"whitegrid\")\n",
    "fig=plt.figure(figsize=(15, 4), dpi=124, facecolor='w', edgecolor='k')\n",
    "\n",
    "sns.distplot(all_muts, norm_hist=False, rug=True, hist=False, kde_kws=dict(bw=.01))\n",
    "plt.xlabel(\"Mutation correlation (Pearson R)\")\n",
    "plt.vlines(mut_corr_avg, 0, 14, linestyles=\"--\", label=\"Mean\")\n",
    "plt.vlines(mut_corr_avg+mut_corr_std, 0, 14, colors='gray', linestyles=\"--\", label=\"Standard deviation\")\n",
    "plt.vlines(mut_corr_avg-mut_corr_std, 0, 14, colors='gray', linestyles=\"--\")\n",
    "\n",
    "plt.ylim(0, 13)\n",
    "plt.legend()\n",
    "plt.ylabel(\"Density\")\n",
    "\n",
    "plt.show()"
   ]
  },
  {
   "cell_type": "code",
   "execution_count": null,
   "metadata": {
    "scrolled": false
   },
   "outputs": [],
   "source": [
    "for geneID, row in tqdm(gene_list.iterrows(), total=len(gene_list)):\n",
    "    mut_corrs = {}\n",
    "    for paralog in row.paralogs:\n",
    "        if paralog in mutations:\n",
    "            muts = np.array([1. if cell_line in mutations[paralog] else 0. for cell_line in eff_data.index])\n",
    "            corr = get_correlation(eff_data[geneID].values, muts)\n",
    "            mut_corrs[paralog] = (corr, (corr - mut_corr_avg) / mut_corr_std)\n",
    "\n",
    "    gene_list.loc[geneID, 'paralog_mutation_correlation'] = [mut_corrs]\n",
    "    \n",
    "gene_list"
   ]
  },
  {
   "cell_type": "markdown",
   "metadata": {},
   "source": [
    "### Add Treehouse data"
   ]
  },
  {
   "cell_type": "code",
   "execution_count": null,
   "metadata": {},
   "outputs": [],
   "source": [
    "th_diseases = {}\n",
    "for th_id, disease in treehouse_info.disease.iteritems():\n",
    "    if disease not in th_diseases:\n",
    "        th_diseases[disease] = []\n",
    "    th_diseases[disease].append(th_id)\n",
    "\n",
    "th_diseases"
   ]
  },
  {
   "cell_type": "code",
   "execution_count": null,
   "metadata": {
    "scrolled": true
   },
   "outputs": [],
   "source": [
    "enriched_diseases = {\"gene\": [], \"paralog\": [], \"enr_d\": [], \"p_val\": [], \"n\": []}\n",
    "for geneID, row in tqdm(gene_list.iterrows(), total=len(gene_list)):\n",
    "    gene = row.gene\n",
    "    paralogs = [(p, get_gene_name(p)[0].split(' ')[0]) for p in row.paralogs]\n",
    "    avg_disease_scores = {d: 0 for d in th_diseases.keys()}\n",
    "    \n",
    "    if gene in treehouse_data.index:\n",
    "        for disease, th_ids in th_diseases.items():\n",
    "            avg_disease_scores[disease] = np.median(treehouse_data.loc[gene, th_ids].values)\n",
    "        avg_disease_scores = dict(sorted(avg_disease_scores.items(), key=lambda x: x[1], reverse=True))\n",
    "    else:\n",
    "        print(f\"{gene} ({geneID}) not in treehouse\")\n",
    "        \n",
    "    gene_list.loc[geneID, 'avg_th_expression'] = [avg_disease_scores]\n",
    "    gene_list.loc[geneID, 'up_enriched_th_diseases'] = [get_enrichments(gene, treehouse_data.T, treehouse_info,\n",
    "                                                                        'disease', skewed='right')]\n",
    "    \n",
    "    for p_id, p_name in paralogs:\n",
    "        if p_name in treehouse_data.index:\n",
    "            enr_d = get_enrichments(p_name, treehouse_data.T, treehouse_info,\n",
    "                                    'disease', skewed='left', p_cutoff=None)\n",
    "            for d in enr_d:\n",
    "                enriched_diseases[\"gene\"].append(geneID)\n",
    "                enriched_diseases[\"paralog\"].append(p_id)\n",
    "                enriched_diseases[\"enr_d\"].append(d)\n",
    "                enriched_diseases[\"p_val\"].append(enr_d[d][\"p\"])\n",
    "                enriched_diseases[\"n\"].append(enr_d[d][\"n\"])\n",
    "                \n",
    "enriched_diseases = pd.DataFrame(enriched_diseases)\n",
    "\n",
    "reject, p_adj, _, _ = multipletests(enriched_diseases.p_val, method='fdr_bh')\n",
    "enriched_diseases[\"p_adj\"] = p_adj\n",
    "           \n",
    "for geneID, row in gene_list.iterrows():\n",
    "    enrichments = {}\n",
    "    for p_id in row.paralogs:\n",
    "        for _, inf in enriched_diseases.loc[(enriched_diseases.gene == geneID) &\n",
    "                                            (enriched_diseases.paralog == p_id)].iterrows():    \n",
    "            if inf.p_adj < 0.05:\n",
    "                enrichments[inf.enr_d] = {p_id: dict(p=inf.p_adj, n=inf.n)}\n",
    "    gene_list['enriched_diseases'][geneID] = enrichments\n",
    "\n",
    "gene_list"
   ]
  },
  {
   "cell_type": "code",
   "execution_count": null,
   "metadata": {},
   "outputs": [],
   "source": [
    "def enr_vals(gene_id, gene, cell_lines, name, typ, data=eff_data, cl_field=None, data_name=\"gene_effect\"):\n",
    "    dat_lines = set(data.index).intersection(cell_lines)\n",
    "    dat_vals = {data_name: list(data.loc[dat_lines, gene].values.flatten()),\n",
    "                \"gene\": [get_gene_name(gene_id)[0]]*len(dat_lines),\n",
    "                \"name\": [f\"{name} enrichment\"]*len(dat_lines),\n",
    "                \"type\": [typ]*len(dat_lines)}\n",
    "    return dat_vals"
   ]
  },
  {
   "cell_type": "code",
   "execution_count": null,
   "metadata": {},
   "outputs": [],
   "source": [
    "data = {\"gene_effect\": [], \"name\": [], \"type\": [], \"gene\": []}\n",
    "for p_idx, enr_diseases in gene_list.down_enriched_paralog_th_diseases[29107][0].items():\n",
    "    for dm_dis, th_diss in dm_th_dis_map.items():\n",
    "        overlap = set(th_diss).intersection(enr_diseases)\n",
    "        if len(overlap) > 0:\n",
    "            for k, v in enr_vals(p_idx, \"NXT2\", treehouse_info.loc[treehouse_info.disease.isin(overlap)].index,\n",
    "                                 dm_dis, \"enriched\", treehouse_data.T).items():\n",
    "                data[k].extend(v)\n",
    "            for k, v in enr_vals(p_idx, \"NXT2\", treehouse_info.loc[~treehouse_info.disease.isin(overlap)].index,\n",
    "                                 dm_dis, \"other\", treehouse_data.T).items():\n",
    "                data[k].extend(v)\n",
    "            \n",
    "data = pd.DataFrame(data)\n",
    "data"
   ]
  },
  {
   "cell_type": "code",
   "execution_count": null,
   "metadata": {},
   "outputs": [],
   "source": [
    "fig=plt.figure(figsize=(15, 15), dpi=124, facecolor='w', edgecolor='k')\n",
    "\n",
    "sns.boxplot(data=data, x=\"gene_effect\", y=\"name\", hue=\"type\", orient=\"h\", palette=['royalblue', 'lightgray'])\n",
    "plt.ylabel(None)\n",
    "plt.xlabel(\"Treehouse expression score (log2(TPM+1))\")\n",
    "plt.title(\"NXT2 (55916)\")\n",
    "plt.legend()\n",
    "plt.show()"
   ]
  },
  {
   "cell_type": "code",
   "execution_count": null,
   "metadata": {},
   "outputs": [],
   "source": [
    "fig=plt.figure(figsize=(15, 15), dpi=124, facecolor='w', edgecolor='k')\n",
    "\n",
    "# Explore distributions:\n",
    "g = 'NXT2'\n",
    "d = ['neuroblastoma', 'wilms tumor', 'rhabdomyosarcoma']\n",
    "d = list(gene_list.down_enriched_paralog_th_diseases[29107][0].val## Save results\n",
    "\n",
    "gene_list.to_pickle(f'results/essential_candidates/public_20Q2/added_features_median_padj.pkl')ues())[0].keys()\n",
    "\n",
    "sns.distplot(treehouse_data.loc[g], bins=50, label='all', kde=False)\n",
    "for i in d:\n",
    "    sns.distplot(treehouse_data.loc[g, th_diseases[i]], label=i, kde=False)\n",
    "    \n",
    "plt.legend()\n",
    "plt.show()"
   ]
  },
  {
   "cell_type": "markdown",
   "metadata": {},
   "source": [
    "## Save results"
   ]
  },
  {
   "cell_type": "code",
   "execution_count": null,
   "metadata": {},
   "outputs": [],
   "source": [
    "gene_list.to_pickle(RESULTS_FILE)"
   ]
  }
 ],
 "metadata": {
  "kernelspec": {
   "display_name": "Python 3",
   "language": "python",
   "name": "python3"
  },
  "language_info": {
   "codemirror_mode": {
    "name": "ipython",
    "version": 3
   },
   "file_extension": ".py",
   "mimetype": "text/x-python",
   "name": "python",
   "nbconvert_exporter": "python",
   "pygments_lexer": "ipython3",
   "version": "3.7.6"
  }
 },
 "nbformat": 4,
 "nbformat_minor": 4
}
