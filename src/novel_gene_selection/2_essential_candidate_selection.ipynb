{
 "cells": [
  {
   "cell_type": "code",
   "execution_count": null,
   "metadata": {},
   "outputs": [],
   "source": [
    "import numpy as np\n",
    "import pandas as pd\n",
    "import os\n",
    "import sys\n",
    "import matplotlib.pyplot as plt\n",
    "from collections import Counter\n",
    "from util import *\n",
    "from matplotlib_venn import venn3\n",
    "from tqdm.notebook import tqdm\n",
    "import seaborn as sns\n",
    "\n",
    "%matplotlib inline"
   ]
  },
  {
   "cell_type": "markdown",
   "metadata": {},
   "source": [
    "### Define paths"
   ]
  },
  {
   "cell_type": "code",
   "execution_count": null,
   "metadata": {},
   "outputs": [],
   "source": [
    "# Input files\n",
    "CANDIDATE_GENES = \"results/candidate_genes/public_20Q2\"\n",
    "\n",
    "# Output files\n",
    "RESULTS_FILE = \"results/essential_candidates/public_20Q2/essential_genes-all.pkl\""
   ]
  },
  {
   "cell_type": "markdown",
   "metadata": {},
   "source": [
    "## 1.  Load data"
   ]
  },
  {
   "cell_type": "markdown",
   "metadata": {},
   "source": [
    "### Load paralog genes interacting with common essential"
   ]
  },
  {
   "cell_type": "code",
   "execution_count": null,
   "metadata": {},
   "outputs": [],
   "source": [
    "candidate_genes = []\n",
    "for dataset in [\"CORUM\", \"STRING\", \"SIGNOR\", \"HuRI\"]:\n",
    "    for paralog_set in [\"DGD\", \"PANTHER\"]:\n",
    "        with open(os.path.join(CANDIDATE_GENES, f\"{dataset}-{paralog_set}\"), 'r') as f:\n",
    "            genes = [int(i.strip(' \\n')) for i in f.readlines()]\n",
    "            candidate_genes += genes\n",
    "            print(f\"{dataset}-{paralog_set}:\\t{len(genes)}\")\n",
    "candidate_genes = list(set(candidate_genes))\n",
    "len(candidate_genes)"
   ]
  },
  {
   "cell_type": "markdown",
   "metadata": {},
   "source": [
    "### Load cell line info"
   ]
  },
  {
   "cell_type": "code",
   "execution_count": null,
   "metadata": {
    "scrolled": false
   },
   "outputs": [],
   "source": [
    "cell_line_inf = get_from_taiga(name='public-20q2-075d', version=22, file='sample_info')\n",
    "cell_line_inf.set_index('DepMap_ID', inplace=True)\n",
    "\n",
    "# Make ALL subtype specific for b-ALL and t-ALL\n",
    "cell_line_inf.loc[(cell_line_inf['lineage_subtype']=='ALL') & \n",
    "                  (cell_line_inf['lineage_sub_subtype'].str.contains('t')), 'lineage_subtype'] = 't-ALL'\n",
    "cell_line_inf.loc[(cell_line_inf['lineage_subtype']=='ALL') &\n",
    "                  (cell_line_inf['lineage_sub_subtype'].str.contains('b')), 'lineage_subtype'] = 'b-ALL'\n",
    "\n",
    "cell_line_inf['specified_disease'] = cell_line_inf.loc[cell_line_inf.lineage_subtype.isin(PEDIATRIC_CANCERS)\n",
    "                                                      ].lineage_subtype\n",
    "cell_line_inf.specified_disease.fillna(cell_line_inf.primary_disease, inplace=True)\n",
    "\n",
    "diseases = dict(cell_line_inf.specified_disease.value_counts())\n",
    "\n",
    "cell_line_inf.head()"
   ]
  },
  {
   "cell_type": "markdown",
   "metadata": {},
   "source": [
    "### Load Achilles gene dependency data"
   ]
  },
  {
   "cell_type": "code",
   "execution_count": null,
   "metadata": {},
   "outputs": [],
   "source": [
    "achilles_gene_dep = get_from_taiga(name='public-20q2-075d', version=22, file='Achilles_gene_dependency',\n",
    "                                   split_attribute='header')\n",
    "achilles_gene_dep.head()"
   ]
  },
  {
   "cell_type": "markdown",
   "metadata": {},
   "source": [
    "### Load Achilles gene effect data"
   ]
  },
  {
   "cell_type": "code",
   "execution_count": null,
   "metadata": {},
   "outputs": [],
   "source": [
    "achilles_gene_eff = get_from_taiga(name='public-20q2-075d', version=22, file='Achilles_gene_effect',\n",
    "                                   split_attribute='header')\n",
    "achilles_gene_eff.head()"
   ]
  },
  {
   "cell_type": "markdown",
   "metadata": {},
   "source": [
    "### Load DEMETER RNAi gene dependency data"
   ]
  },
  {
   "cell_type": "code",
   "execution_count": null,
   "metadata": {},
   "outputs": [],
   "source": [
    "demeter_gene_dep = get_from_taiga(name='demeter2-achilles-5386', version=13, file='gene_dependency',\n",
    "                                  split_attribute='header')\n",
    "demeter_gene_dep = remap_index(demeter_gene_dep, cell_line_inf.CCLE_Name, 'DepMap_ID')\n",
    "demeter_gene_dep.head()"
   ]
  },
  {
   "cell_type": "markdown",
   "metadata": {},
   "source": [
    "### Load DEMETER RNAi gene effect data"
   ]
  },
  {
   "cell_type": "code",
   "execution_count": null,
   "metadata": {},
   "outputs": [],
   "source": [
    "demeter_gene_eff = get_from_taiga(name='demeter2-achilles-5386', version=13, file='gene_effect',\n",
    "                                  split_attribute='header')\n",
    "demeter_gene_eff = remap_index(demeter_gene_eff, cell_line_inf.CCLE_Name, 'DepMap_ID')\n",
    "demeter_gene_eff.head()"
   ]
  },
  {
   "cell_type": "markdown",
   "metadata": {},
   "source": [
    "### Load sanger gene dependency data"
   ]
  },
  {
   "cell_type": "code",
   "execution_count": null,
   "metadata": {},
   "outputs": [],
   "source": [
    "sanger_gene_dep = get_from_taiga(name='sanger-crispr-project-score--e20b', version=4, file='gene_dependency',\n",
    "                                 split_attribute='header')\n",
    "sanger_gene_dep.head()"
   ]
  },
  {
   "cell_type": "markdown",
   "metadata": {},
   "source": [
    "### Load sanger gene effect data"
   ]
  },
  {
   "cell_type": "code",
   "execution_count": null,
   "metadata": {},
   "outputs": [],
   "source": [
    "sanger_gene_eff = get_from_taiga(name='sanger-crispr-project-score--e20b', version=4, file='gene_effect',\n",
    "                                 split_attribute='header')\n",
    "sanger_gene_eff.head()"
   ]
  },
  {
   "cell_type": "markdown",
   "metadata": {},
   "source": [
    "### Load LRT scores"
   ]
  },
  {
   "cell_type": "code",
   "execution_count": null,
   "metadata": {
    "scrolled": true
   },
   "outputs": [],
   "source": [
    "lrt_scores = get_from_taiga(name='crispr-avana-4171', version=1, file='CRISPR-LRT',\n",
    "                            split_attribute='column', col='Row.name')\n",
    "lrt_scores.head()"
   ]
  },
  {
   "cell_type": "markdown",
   "metadata": {},
   "source": [
    "## 2.  Filter on those genes which are skewed to the left"
   ]
  },
  {
   "cell_type": "code",
   "execution_count": null,
   "metadata": {},
   "outputs": [],
   "source": [
    "skewed_genes = lrt_scores.loc[(lrt_scores.LRT >= 100) & \n",
    "                              (lrt_scores.index.get_level_values(0).isin(candidate_genes))].index\n",
    "len(skewed_genes)"
   ]
  },
  {
   "cell_type": "code",
   "execution_count": null,
   "metadata": {},
   "outputs": [],
   "source": [
    "def get_left_skewed_genes(gene_effs_data, skewed_gene_list):\n",
    "    skewed_gene_effs = gene_effs_data.T.loc[skewed_genes]\n",
    "    return skewed_gene_effs.loc[skewed_gene_effs.mean(axis=1) < skewed_gene_effs.median(axis=1)].index"
   ]
  },
  {
   "cell_type": "code",
   "execution_count": null,
   "metadata": {},
   "outputs": [],
   "source": [
    "achilles_left_skewed_genes = get_left_skewed_genes(achilles_gene_eff, skewed_genes)\n",
    "\n",
    "demeter_left_skewed_genes = get_left_skewed_genes(demeter_gene_eff, skewed_genes)\n",
    "\n",
    "sanger_left_skewed_genes = get_left_skewed_genes(sanger_gene_eff, skewed_genes)"
   ]
  },
  {
   "cell_type": "code",
   "execution_count": null,
   "metadata": {},
   "outputs": [],
   "source": [
    "fig=plt.figure(figsize=(5, 5), dpi=124, facecolor='w', edgecolor='k')\n",
    "# plt.title('Selective dependencies from different screens.')\n",
    "venn3([set(achilles_left_skewed_genes), set(demeter_left_skewed_genes), set(sanger_left_skewed_genes)], \n",
    "      set_labels=[f'Achilles CRISPR ({len(achilles_left_skewed_genes)})', \n",
    "                  f'DEMETER RNAi ({len(demeter_left_skewed_genes)})', \n",
    "                  f'Sanger CRISPR ({len(sanger_left_skewed_genes)})'])\n",
    "plt.show()"
   ]
  },
  {
   "cell_type": "markdown",
   "metadata": {},
   "source": [
    "## 3.  Identify in which cell lines the candidate genes are a selective dependency"
   ]
  },
  {
   "cell_type": "code",
   "execution_count": null,
   "metadata": {},
   "outputs": [],
   "source": [
    "def get_essential_lines(left_skewed_genes, gene_dep):\n",
    "    essential_lines = {}\n",
    "    for geneID, name in left_skewed_genes:\n",
    "        lines = gene_dep.loc[gene_dep[geneID, name] > .5].index.values\n",
    "        if len(lines) > 0:\n",
    "            essential_lines[int(geneID)] = [name, len(set(lines)), set(lines)]\n",
    "    return essential_lines"
   ]
  },
  {
   "cell_type": "code",
   "execution_count": null,
   "metadata": {
    "scrolled": false
   },
   "outputs": [],
   "source": [
    "essential_in_cell_lines = {}\n",
    "\n",
    "essential_genes_from_screen = {\"Achilles CRISPR\": [], \"DEMETER RNAi\": [], \"Sanger CRISPR\": []}\n",
    "\n",
    "for left_skewed_genes, gene_dep, screen in [(achilles_left_skewed_genes, achilles_gene_dep, \"Achilles CRISPR\"), \n",
    "                                    (demeter_left_skewed_genes, demeter_gene_dep, \"DEMETER RNAi\"), \n",
    "                                    (sanger_left_skewed_genes, sanger_gene_dep, \"Sanger CRISPR\")]:\n",
    "    for geneID, essential_lines in get_essential_lines(left_skewed_genes, gene_dep).items():\n",
    "        essential_genes_from_screen[screen].append(geneID)\n",
    "        if geneID not in essential_in_cell_lines:\n",
    "            essential_in_cell_lines[geneID] = essential_lines\n",
    "        else:\n",
    "            essential_in_cell_lines[geneID][2].union(essential_lines[2])\n",
    "            essential_in_cell_lines[geneID][1] = len(essential_in_cell_lines[geneID][2])\n",
    "\n",
    "essential_in_cell_lines = pd.DataFrame(essential_in_cell_lines, index=[\"gene\", \"n_lines\", \"cell_lines\"]).T\n",
    "print(f\"{len(essential_in_cell_lines)} genes affecting {len(set(j for i in essential_in_cell_lines.cell_lines.values for j in i))} cell lines\")\n",
    "essential_in_cell_lines"
   ]
  },
  {
   "cell_type": "code",
   "execution_count": null,
   "metadata": {
    "scrolled": false
   },
   "outputs": [],
   "source": [
    "fig=plt.figure(figsize=(5, 5), dpi=124, facecolor='w', edgecolor='k')\n",
    "# plt.title('Selective dependencies from different screens.')\n",
    "venn3([set(i) for i in essential_genes_from_screen.values()], \n",
    "      set_labels=[f'{k} ({len(set(v))})' for k, v in essential_genes_from_screen.items()])\n",
    "plt.show()"
   ]
  },
  {
   "cell_type": "code",
   "execution_count": null,
   "metadata": {},
   "outputs": [],
   "source": [
    "def draw_sorted_bar(dataset, title_text, cutoff):\n",
    "    fig=plt.figure(figsize=(15, 7), dpi=124, facecolor='w', edgecolor='k')\n",
    "    plt.xticks(rotation=65)\n",
    "    \n",
    "    plt.bar(*list(map(list, zip(*sorted([list(i) \n",
    "                                         for i in dataset.loc[dataset.n_lines > cutoff, \n",
    "                                                              ['gene', 'n_lines']].values], \n",
    "                                        key=lambda x: x[1], reverse=True)))))\n",
    "    plt.xlim()\n",
    "\n",
    "#     plt.figtext(.5,.92,f'Essential paralog genes in {title_text} cell lines', fontsize=20, ha='center')\n",
    "#     plt.figtext(.5,.89,f'For genes essential in ≥{cutoff} cell lines.',fontsize=12,ha='center')\n",
    "\n",
    "    plt.xlabel(\"Gene\")\n",
    "    plt.ylabel(\"Number of affected cell lines\")\n",
    "    plt.grid(linestyle='-', axis='y')\n",
    "    plt.show()\n",
    "\n",
    "draw_sorted_bar(essential_in_cell_lines, 'any', 50)"
   ]
  },
  {
   "cell_type": "code",
   "execution_count": null,
   "metadata": {
    "scrolled": true
   },
   "outputs": [],
   "source": [
    "lines_per_disease = {}\n",
    "for idx, row in tqdm(essential_in_cell_lines.iterrows(), total=len(essential_in_cell_lines)):\n",
    "    if row.n_lines > 5:\n",
    "        gene = f\"{row.gene} ({idx})\"\n",
    "        lines_per_disease[gene] = {}\n",
    "        for d in diseases:\n",
    "            if d not in [\"Unknown\", \"Embryonal Cancer\", \"Teratoma\", \"Adrenal Cancer\"]:\n",
    "                lines_per_disease[gene][d] = 0\n",
    "        for cell_line in row.cell_lines:\n",
    "            if cell_line in cell_line_inf.index:\n",
    "                d = cell_line_inf.loc[cell_line].specified_disease\n",
    "                lines_per_disease[gene][d] += 1\n",
    "\n",
    "lines_per_disease = pd.DataFrame(lines_per_disease)\n",
    "lines_per_disease"
   ]
  },
  {
   "cell_type": "code",
   "execution_count": null,
   "metadata": {
    "scrolled": true
   },
   "outputs": [],
   "source": [
    "fig=plt.figure(figsize=(20, 10), dpi=124, facecolor='w', edgecolor='k')\n",
    "# Use the list \"selection\" to define the genes to plot the clustermap for\n",
    "selection = [10006, 483, 23545, 1000, 8450, 131118, 1871, 63916, 2625, 9759, 3845, 10905, 4170, 29107, 9943, 5290, 6688, 27183, 9525, 7454]\n",
    "lines_per_disease = lines_per_disease[selection]\n",
    "col_map = {g: \"r\" if int(g.split(\" \")[-1].strip(\"()\")) in sel else \"k\" for g in lines_per_disease.columns}\n",
    "sns.clustermap(lines_per_disease, xticklabels=True, yticklabels=True, figsize=(50, 10),\n",
    "               standard_scale=0,\n",
    "               dendrogram_ratio=(.05, .2), cbar_pos=(-.03,.3,.01,.5),\n",
    "               col_colors=lines_per_disease.columns.map(col_map))\n",
    "plt.show()"
   ]
  },
  {
   "cell_type": "markdown",
   "metadata": {},
   "source": [
    "## 4.  Save results"
   ]
  },
  {
   "cell_type": "code",
   "execution_count": null,
   "metadata": {},
   "outputs": [],
   "source": [
    "essential_in_cell_lines.to_pickle(RESULTS_FILE)"
   ]
  }
 ],
 "metadata": {
  "kernelspec": {
   "display_name": "Python 3",
   "language": "python",
   "name": "python3"
  },
  "language_info": {
   "codemirror_mode": {
    "name": "ipython",
    "version": 3
   },
   "file_extension": ".py",
   "mimetype": "text/x-python",
   "name": "python",
   "nbconvert_exporter": "python",
   "pygments_lexer": "ipython3",
   "version": "3.7.6"
  }
 },
 "nbformat": 4,
 "nbformat_minor": 4
}
