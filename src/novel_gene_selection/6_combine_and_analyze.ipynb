{
 "cells": [
  {
   "cell_type": "code",
   "execution_count": null,
   "metadata": {},
   "outputs": [],
   "source": [
    "import numpy as np\n",
    "import pandas as pd\n",
    "import os\n",
    "import sys\n",
    "import matplotlib.pyplot as plt\n",
    "import pickle as pkl\n",
    "from tqdm.notebook import tqdm\n",
    "import plotly.graph_objects as go\n",
    "import plotly.express as px\n",
    "from bio import Entrez\n",
    "from collections import Counter, defaultdict\n",
    "import re\n",
    "from util import *\n",
    "import seaborn as sns\n",
    "\n",
    "sns.set(color_codes=False)\n",
    "sns.set_style(\"whitegrid\")\n",
    "\n",
    "%matplotlib inline"
   ]
  },
  {
   "cell_type": "markdown",
   "metadata": {},
   "source": [
    "### Define paths"
   ]
  },
  {
   "cell_type": "code",
   "execution_count": null,
   "metadata": {},
   "outputs": [],
   "source": [
    "# Input files\n",
    "ESSENTIAL_GENES  = f'results/essential_candidates/public_20Q2/essential_genes-all.pkl'\n",
    "INTERACTION_DATA = f\"results/essential_candidates/public_20Q2/essential_genes_annotated.pkl\"\n",
    "CORRELATION_DATA = f'results/essential_candidates/public_20Q2/expression_correlations.pkl'\n",
    "ADDED_FEATURES   = f'results/essential_candidates/public_20Q2/added_features_median_padj.pkl'\n",
    "NCBI_GENE_NAMES  = 'data/misc/ncbi_gene_names.pkl'\n",
    "TH_DM_MAP        = 'data/treehouse/th_dm_map.csv'\n",
    "TREEHOUSE_INFO   = 'data/treehouse/clinical_TumorCompendium_v11_PolyA_2020-04-09.tsv'"
   ]
  },
  {
   "cell_type": "markdown",
   "metadata": {},
   "source": [
    "## 1.  Load data"
   ]
  },
  {
   "cell_type": "markdown",
   "metadata": {},
   "source": [
    "### Load correlation data"
   ]
  },
  {
   "cell_type": "code",
   "execution_count": null,
   "metadata": {},
   "outputs": [],
   "source": [
    "correlation_data = pd.read_pickle(CORRELATION_DATA)\n",
    "correlation_data.head()"
   ]
  },
  {
   "cell_type": "markdown",
   "metadata": {},
   "source": [
    "### Load paralog-common essential interaction data"
   ]
  },
  {
   "cell_type": "code",
   "execution_count": null,
   "metadata": {},
   "outputs": [],
   "source": [
    "interaction_data = pd.read_pickle(INTERACTION_DATA)\n",
    "interaction_data.head()"
   ]
  },
  {
   "cell_type": "markdown",
   "metadata": {},
   "source": [
    "### Load essentiality data"
   ]
  },
  {
   "cell_type": "code",
   "execution_count": null,
   "metadata": {},
   "outputs": [],
   "source": [
    "essential_genes = pd.read_pickle(ESSENTIAL_GENES)\n",
    "essential_genes.head()"
   ]
  },
  {
   "cell_type": "markdown",
   "metadata": {},
   "source": [
    "### Load added features"
   ]
  },
  {
   "cell_type": "code",
   "execution_count": null,
   "metadata": {},
   "outputs": [],
   "source": [
    "added_features = pd.read_pickle(ADDED_FEATURES)\n",
    "added_features.head()"
   ]
  },
  {
   "cell_type": "markdown",
   "metadata": {},
   "source": [
    "### Load cell line info\n"
   ]
  },
  {
   "cell_type": "code",
   "execution_count": null,
   "metadata": {
    "scrolled": false
   },
   "outputs": [],
   "source": [
    "cell_line_inf = get_from_taiga(name='public-20q2-075d', version=22, file='sample_info')\n",
    "cell_line_inf.set_index('DepMap_ID', inplace=True)\n",
    "\n",
    "cell_line_inf.loc[(cell_line_inf['lineage_subtype']=='ALL') &\n",
    "                  (cell_line_inf['lineage_sub_subtype'].str.contains('t')), 'lineage_subtype'] = 't-ALL'\n",
    "cell_line_inf.loc[(cell_line_inf['lineage_subtype']=='ALL') &\n",
    "                  (cell_line_inf['lineage_sub_subtype'].str.contains('b')), 'lineage_subtype'] = 'b-ALL'\n",
    "\n",
    "cell_line_inf['specified_disease'] = cell_line_inf.loc[cell_line_inf.lineage_subtype.isin(PEDIATRIC_CANCERS)\n",
    "                                                      ].lineage_subtype\n",
    "cell_line_inf.specified_disease.fillna(cell_line_inf.primary_disease, inplace=True)\n",
    "\n",
    "DISEASES = dict(cell_line_inf.specified_disease.value_counts())\n",
    "\n",
    "cell_line_inf.head()"
   ]
  },
  {
   "cell_type": "markdown",
   "metadata": {},
   "source": [
    "### Load dependency data"
   ]
  },
  {
   "cell_type": "code",
   "execution_count": null,
   "metadata": {},
   "outputs": [],
   "source": [
    "eff_data = get_from_taiga(name='public-20q2-075d', version=22, file='Achilles_gene_effect',\n",
    "                          split_attribute='header')\n",
    "eff_data.head()"
   ]
  },
  {
   "cell_type": "markdown",
   "metadata": {},
   "source": [
    "### Load expression data"
   ]
  },
  {
   "cell_type": "code",
   "execution_count": null,
   "metadata": {},
   "outputs": [],
   "source": [
    "exp_data = get_from_taiga(name='public-20q2-075d', version=22, file='CCLE_expression',\n",
    "                          split_attribute='header')\n",
    "exp_data.head()"
   ]
  },
  {
   "cell_type": "markdown",
   "metadata": {},
   "source": [
    "### Load Treehouse-DepMap disease mapping"
   ]
  },
  {
   "cell_type": "code",
   "execution_count": null,
   "metadata": {},
   "outputs": [],
   "source": [
    "th_dm_map = pd.read_csv(TH_DM_MAP, sep=\"\\t\")\n",
    "th_dm_map.head()"
   ]
  },
  {
   "cell_type": "code",
   "execution_count": null,
   "metadata": {},
   "outputs": [],
   "source": [
    "dm_th_disease_map = {d: [] for d in DISEASES}\n",
    "for d in set(th_dm_map.depmap_name):\n",
    "    dm_th_disease_map[d] = list(th_dm_map.loc[th_dm_map.depmap_name == d, \"treehouse_name\"])\n",
    "\n",
    "dm_th_disease_map"
   ]
  },
  {
   "cell_type": "markdown",
   "metadata": {},
   "source": [
    "### Load Treehouse info"
   ]
  },
  {
   "cell_type": "code",
   "execution_count": null,
   "metadata": {},
   "outputs": [],
   "source": [
    "treehouse_info = pd.read_csv(TREEHOUSE_INFO, sep='\\t', index_col=0)\n",
    "print(treehouse_info.shape)\n",
    "treehouse_info.head()"
   ]
  },
  {
   "cell_type": "code",
   "execution_count": null,
   "metadata": {},
   "outputs": [],
   "source": [
    "th_diseases = {}\n",
    "for th_id, disease in treehouse_info.disease.iteritems():\n",
    "    if disease not in th_diseases:\n",
    "        th_diseases[disease] = []\n",
    "    th_diseases[disease].append(th_id)\n",
    "\n",
    "th_diseases"
   ]
  },
  {
   "cell_type": "code",
   "execution_count": null,
   "metadata": {},
   "outputs": [],
   "source": [
    "with open(NCBI_GENE_NAMES, 'rb') as f:\n",
    "    ncbi_gene_names = pkl.load(f)\n",
    "\n",
    "def get_gene_name(geneID):\n",
    "    if geneID not in ncbi_gene_names:\n",
    "        Entrez.email = \"test@gmail.com\"\n",
    "        handle = Entrez.efetch(\"gene\", id=str(geneID), rettype=\"gene_table\", retmode=\"text\")\n",
    "        info = handle.readline().split()\n",
    "        name = info[0]\n",
    "        ncbi_gene_names[geneID] = f\"{name} ({geneID})\", f\"{' '.join(info[1:]).strip()}\"\n",
    "        with open(NCBI_GENE_NAMES, 'wb') as f:\n",
    "            pkl.dump(ncbi_gene_names, f)\n",
    "    return ncbi_gene_names[geneID]"
   ]
  },
  {
   "cell_type": "code",
   "execution_count": null,
   "metadata": {},
   "outputs": [],
   "source": [
    "def dict_transpose(dct):\n",
    "    d = defaultdict(dict)\n",
    "    for key1, inner in dct.items():\n",
    "        for key2, value in inner.items():\n",
    "            d[key2][key1] = value\n",
    "    return d"
   ]
  },
  {
   "cell_type": "code",
   "execution_count": null,
   "metadata": {},
   "outputs": [],
   "source": [
    "def disease_score(disease, cnt, cnt_for_disease, disease_correlations,\n",
    "                  enriched_diseases, enriched_paralog_th_diseases):\n",
    "    enriched_paralog_diseases = [j for i in enriched_paralog_th_diseases.values() for j in i.keys()]\n",
    "    return np.nansum([cnt/cnt_for_disease if cnt_for_disease > 2 else 0,\n",
    "                      max(disease_correlations[disease].values()) if disease in disease_correlations else 0,\n",
    "                      .6 if disease in enriched_diseases else 0,\n",
    "                      .6 if any(i in enriched_paralog_diseases for i in dm_th_disease_map[disease]) else 0,\n",
    "                     ])"
   ]
  },
  {
   "cell_type": "markdown",
   "metadata": {},
   "source": [
    "## 2.  Combine results"
   ]
  },
  {
   "cell_type": "code",
   "execution_count": null,
   "metadata": {},
   "outputs": [],
   "source": [
    "unique_diseases = set()\n",
    "cnt_for_lines = Counter(cell_line_inf.specified_disease.values)\n",
    "\n",
    "combined = pd.concat([correlation_data[['gene', 'avg_correlation_all_paralogs', 'max_correlation_all_paralogs', \n",
    "                                        'avg_correlation_interacting_paralogs', \n",
    "                                        'max_correlation_interacting_paralogs', 'correlations', \n",
    "                                        'max_disease_specific_all', 'max_disease_specific_interacting', \n",
    "                                        'disease_specific_correlations']], \n",
    "                      interaction_data[['n_paralogs', 'n_common_essentials', '% paralogs interacting with any', \n",
    "                                        '% paralogs interacting with all', 'interaction_graph', 'paralogs', \n",
    "                                        'common_essentials', 'interacting_paralogs',\n",
    "                                        'interacting_common_essentials']],\n",
    "                      essential_genes[['n_lines', 'cell_lines']],\n",
    "                      added_features[['enriched_diseases', 'paralog_predict_score',\n",
    "                                      'paralog_mutation_correlation', 'avg_th_expression',\n",
    "                                      'up_enriched_th_diseases', 'down_enriched_paralog_th_diseases']]], \n",
    "                     axis=1, join='inner')\n",
    "\n",
    "### ADD FEATURES HERE ###\n",
    "for idx, row in tqdm(combined.iterrows(), total=len(combined)):\n",
    "    cell_lines = set(row.cell_lines).intersection(cell_line_inf.index)\n",
    "    diseases = cell_line_inf.loc[cell_lines].specified_disease\n",
    "    unique_diseases.update(diseases)\n",
    "    \n",
    "    combined.loc[idx, 'n_diseases'] = str(len(diseases.unique()))\n",
    "    combined.loc[idx, 'diseases'] = [[diseases]]\n",
    "    \n",
    "    combined.loc[idx, 'n_interacting_paralogs'] = int(len(combined.loc[idx].interacting_paralogs))\n",
    "\n",
    "    cnt_for_gene = Counter(diseases.values)\n",
    "    disease_correlations = dict_transpose(row.disease_specific_correlations)\n",
    "    \n",
    "    top_diseases = dict(sorted(cnt_for_gene.items(), \n",
    "                               key=lambda x: disease_score(x[0], x[1], cnt_for_lines[x[0]], \n",
    "                                                           disease_correlations, row.enriched_diseases,\n",
    "                                                           row.down_enriched_paralog_th_diseases[0]),\n",
    "                               reverse=True))\n",
    "    \n",
    "    combined.loc[idx, 'top_diseases'] = [dict(\n",
    "            diseases        = list(top_diseases.keys()),\n",
    "            total_lines     = [cnt_for_lines[disease] for disease in top_diseases],\n",
    "            dependent_lines = list(top_diseases.values()),\n",
    "            max_correlation = [max(disease_correlations[disease].items(), key=lambda x: x[1]) \n",
    "                               if disease in disease_correlations else None \n",
    "                               for disease in top_diseases],\n",
    "            enriched_p      = [row.enriched_diseases[disease]['p'] \n",
    "                               if disease in row.enriched_diseases else None\n",
    "                               for disease in top_diseases],\n",
    "            enriched_th_avg = [any(th_dis in row.up_enriched_th_diseases[0]\n",
    "                                   for th_dis in dm_th_disease_map[disease])\n",
    "                               for disease in top_diseases],\n",
    "            th_enr_paralogs = [[p for p, d in row.down_enriched_paralog_th_diseases[0].items()\n",
    "                                    if len(set(dm_th_disease_map[disease]).intersection(d.keys()))]\n",
    "                               for disease in top_diseases],\n",
    "            score           = [disease_score(disease, cnt, cnt_for_lines[disease], disease_correlations,\n",
    "                                             row.enriched_diseases, row.down_enriched_paralog_th_diseases[0])\n",
    "                               for disease, cnt in top_diseases.items()],\n",
    "    )]\n",
    "    \n",
    "    combined.loc[idx, 'top_disease_score'] = combined.loc[idx, 'top_diseases']['score'][0]\n",
    "    \n",
    "\n",
    "    p_score = {p: dict(prediction = row.paralog_predict_score[0][p] \n",
    "                                    if p in row.paralog_predict_score[0] else np.nan,\n",
    "                       mutation_corr = row.paralog_mutation_correlation[0][p]\n",
    "                                       if p in row.paralog_mutation_correlation[0] else np.nan,\n",
    "                       expression_corr = row.correlations[p]\n",
    "                                         if p in row.correlations else np.nan,\n",
    "                       max_dis_corr = max(row.disease_specific_correlations[p].items(), key=lambda x: x[1])\n",
    "                                      if p in row.disease_specific_correlations else np.nan,\n",
    "                       interacting = True if p in row.interacting_paralogs else False)\n",
    "              for p in row.paralogs}\n",
    "    \n",
    "    combined.loc[idx, 'top_paralogs'] = [{get_gene_name(p)[0]: \n",
    "                        dict(prediction = p_score[p][\"prediction\"],\n",
    "                             mutation_corr = p_score[p][\"mutation_corr\"],\n",
    "                             expression_corr = p_score[p][\"expression_corr\"],\n",
    "                             max_dis_corr = p_score[p][\"max_dis_corr\"],\n",
    "                             interacting = p_score[p][\"interacting\"], \n",
    "                             score = np.nansum([p_score[p][\"prediction\"],\n",
    "                                                -p_score[p][\"mutation_corr\"][1] \n",
    "                                                  if p_score[p][\"mutation_corr\"] is not np.nan else 0,\n",
    "                                                p_score[p][\"expression_corr\"],\n",
    "                                                p_score[p][\"max_dis_corr\"][1]\n",
    "                                                  if p_score[p][\"max_dis_corr\"] is not np.nan else 0,\n",
    "                                                1 if p_score[p][\"interacting\"] else 0]),\n",
    "                          ) for p in row.paralogs}]\n",
    "    \n",
    "\n",
    "combined.index.name = 'GeneID'\n",
    "\n",
    "pd.set_option(\"display.max_columns\", 100)\n",
    "    \n",
    "combined.head()"
   ]
  },
  {
   "cell_type": "markdown",
   "metadata": {},
   "source": [
    "### Select interesting candidates"
   ]
  },
  {
   "cell_type": "code",
   "execution_count": null,
   "metadata": {
    "scrolled": false
   },
   "outputs": [],
   "source": [
    "selection = combined.loc[((combined.max_correlation_interacting_paralogs > .24) |\n",
    "                          ((combined.top_disease_score > 1.68) & \n",
    "                           (combined.max_disease_specific_interacting.str[1].str[1] > .7))) &\n",
    "                         (combined.n_interacting_paralogs <= 5) &\n",
    "                         (combined.n_interacting_paralogs > 0)]\n",
    "selection[['gene', \n",
    "           'n_common_essentials', \n",
    "           'n_paralogs', \n",
    "           'n_interacting_paralogs',\n",
    "           'n_lines', 'n_diseases',  \n",
    "           'max_correlation_interacting_paralogs', \n",
    "           'top_disease_score',\n",
    "           'max_disease_specific_interacting',\n",
    "           'top_paralogs',\n",
    "         ]]"
   ]
  },
  {
   "cell_type": "markdown",
   "metadata": {},
   "source": [
    "### Save results"
   ]
  },
  {
   "cell_type": "code",
   "execution_count": null,
   "metadata": {},
   "outputs": [],
   "source": [
    "combined.to_pickle(\"results/annotated_candidates.pkl\")\n",
    "\n",
    "# Also save to csv for reading into e.g. excel\n",
    "combined.to_csv(\"results/annotated_candidates.csv\", sep=\";\")\n",
    "selection.to_csv(\"results/most_interesting_candidates.csv\", sep=\";\")"
   ]
  },
  {
   "cell_type": "code",
   "execution_count": null,
   "metadata": {},
   "outputs": [],
   "source": []
  },
  {
   "cell_type": "markdown",
   "metadata": {},
   "source": [
    "## 3.  Print some of the data"
   ]
  },
  {
   "cell_type": "code",
   "execution_count": null,
   "metadata": {},
   "outputs": [],
   "source": [
    "print('List of genes of interest:')\n",
    "cnt = 1\n",
    "for idx, row in combined.loc[selection.index].iterrows():\n",
    "    print(f\" {cnt}.\\t{row.gene} ({idx}) has {row.n_paralogs} paralogs and interacts with {row.n_common_essentials} common essentials.\")\n",
    "    print(f\"\\t{int(row.n_interacting_paralogs)} of the paralogs interact with {len(row.interacting_common_essentials)} of the common essentials.\")\n",
    "    print(f\"\\t Interacting paralogs:\\tInteracting common essentials:\")\n",
    "    for i in range(max(int(row.n_interacting_paralogs), len(row.interacting_common_essentials))):\n",
    "        print(f\"\\t    {get_gene_name(list(row.interacting_paralogs)[i])[0] if i < row.n_interacting_paralogs else '      '}\",\n",
    "              '\\t' if len(get_gene_name(list(row.interacting_paralogs)[i])[0] if i < row.n_interacting_paralogs else '      ') < 8 else ' ',\n",
    "              f\"\\t   {get_gene_name(list(row.interacting_common_essentials)[i])[0] if i < len(row.interacting_common_essentials) else ' '}\")\n",
    "    \n",
    "    print()\n",
    "    cnt+=1"
   ]
  },
  {
   "cell_type": "code",
   "execution_count": null,
   "metadata": {},
   "outputs": [],
   "source": [
    "top_n = 5\n",
    "\n",
    "pd.set_option(\"display.max_columns\", 100)\n",
    "a = {'rank': list(range(1, top_n+1))}\n",
    "for idx, row in selection.loc[selection.n_diseases.astype(int) >= 5].iterrows():\n",
    "    a[get_gene_name(idx)[0]] = [f\"{d} [{s:.2f}]\"\n",
    "                        for d, s in list(zip(row.top_diseases['diseases'], row.top_diseases['score']))[:top_n]]\n",
    "    \n",
    "pd.DataFrame(a).set_index('rank')"
   ]
  },
  {
   "cell_type": "code",
   "execution_count": null,
   "metadata": {},
   "outputs": [],
   "source": [
    "for idx, row in selection.iterrows():\n",
    "    print(get_gene_name(idx)[0])\n",
    "    print(f\"paralogs\\t{[get_gene_name(p)[0] for p in row.paralogs]}\")\n",
    "    for k, v in row.top_diseases.items():\n",
    "        print(f\"{k}\\t{v[:5]}\")\n",
    "    print()"
   ]
  },
  {
   "cell_type": "code",
   "execution_count": null,
   "metadata": {},
   "outputs": [],
   "source": [
    "n_cancers = len(PEDIATRIC_CANCERS)\n",
    "\n",
    "scores = {}\n",
    "\n",
    "for idx, row in selection.iterrows():\n",
    "    scores[get_gene_name(idx)[0]] = {d: (s, l) for d, s, l in zip(row.top_diseases['diseases'],\n",
    "                                                          row.top_diseases['score'],\n",
    "                                                          row.top_diseases['dependent_lines'])}\n",
    "# print(scores)\n",
    "\n",
    "selection_diseases_scores = pd.DataFrame(scores)\n",
    "selection_diseases_scores['disease'] = selection_diseases_scores.index\n",
    "   \n",
    "selection_diseases_scores = pd.melt(selection_diseases_scores, id_vars=['disease'], value_vars=list(scores.keys()), var_name=\"gene\", value_name=\"score\")\n",
    "selection_diseases_scores['lines'] = selection_diseases_scores.score.str[1]\n",
    "selection_diseases_scores['score'] = selection_diseases_scores.score.str[0] \n",
    "selection_diseases_scores"
   ]
  },
  {
   "cell_type": "markdown",
   "metadata": {},
   "source": [
    "### Create interactive plots of the expression correlations"
   ]
  },
  {
   "cell_type": "code",
   "execution_count": null,
   "metadata": {},
   "outputs": [],
   "source": [
    "CELL_LINES = set(eff_data.index).intersection(exp_data.index)\n",
    "\n",
    "def make_plot(gene_id, trendline_correlation_threshold=.4):\n",
    "    thresh = trendline_correlation_threshold\n",
    "    \n",
    "    info = combined.loc[gene_id]\n",
    "    _cell_lines   = CELL_LINES.intersection(info.cell_lines)\n",
    "    _paralogs     = info.interacting_paralogs\n",
    "    _correlations = info.correlations\n",
    "    \n",
    "    fig = go.Figure()\n",
    "    for i, _paralog in enumerate(_paralogs):    \n",
    "        # Make trendlines first, so we can copy the colors of the diseases!\n",
    "        tl_data = pd.concat([eff_data.loc[CELL_LINES, gene_id], \n",
    "                             exp_data.loc[CELL_LINES, _paralog], \n",
    "                             cell_line_inf.loc[CELL_LINES].specified_disease], \n",
    "                            axis=1, join='inner')\n",
    "        tl_data.columns = ['dependency', 'expression', 'disease']\n",
    "        trendlines = px.scatter(tl_data.loc[tl_data.disease.isin(info.diseases[0])], \n",
    "                                            x='dependency', y='expression', color='disease',\n",
    "                                            color_continuous_scale='Rainbow', trendline=\"ols\").data[1::2]\n",
    " \n",
    "        # Customize trendlines\n",
    "        good_shown = False\n",
    "        rest_shown = False\n",
    "        \n",
    "        disease_color_map = {}        \n",
    "        lines = {}\n",
    "\n",
    "        for trendline in trendlines:\n",
    "            disease = trendline['name']\n",
    "            disease_color_map[disease] = trendline['marker']['color']\n",
    "            \n",
    "            if trendline['x'] is not None:\n",
    "                a = float(re.split('<br>', trendline['hovertemplate'])[1].split()[2])\n",
    "                b = float(re.split('<br>', trendline['hovertemplate'])[1].split()[6])\n",
    "                lines[disease] = (a, b)\n",
    "        \n",
    "        # Draw dependent cell lines\n",
    "        fig.add_trace(go.Scatter(x=eff_data.loc[_cell_lines, gene_id].T.values[0],\n",
    "                                 y=exp_data.loc[_cell_lines, _paralog].T.values[0],\n",
    "                                 mode='markers',\n",
    "                                 marker=dict(color=[disease_color_map[d] for d in info.diseases[0]],\n",
    "                                             symbol=i,\n",
    "                                             line=dict(width=.7, color='DarkSlateGrey')),\n",
    "                                 text=[f\"Paralog: {get_gene_name(_paralog)[0]}<br>\"\\\n",
    "                                       f\"Cell line: {i}<br>\"\\\n",
    "                                       f\"Disease: <b>{j}</b>\" for i, j in zip(_cell_lines, info.diseases[0])],\n",
    "                                 name=f\"{get_gene_name(_paralog)[0]} [{_correlations[_paralog]:.2f}]\",\n",
    "                                ))\n",
    "        \n",
    "        for trendline in trendlines:\n",
    "            disease = trendline['name']\n",
    "            \n",
    "            # Some diseases have no correlation determined, so we don't draw these\n",
    "            # Mostly bc they give KeyErrors\n",
    "            if disease in info.disease_specific_correlations[_paralog]: \n",
    "                # We align the trendline with the markers\n",
    "                # So the hover text matches at the positions\n",
    "                x = trendline['x'] \n",
    "                y = trendline['y']\n",
    "                trendline['x'] = np.array(x[0])\n",
    "                trendline['y'] = np.array(y[0])\n",
    "                for _x, _dis in zip(eff_data.loc[_cell_lines, gene_id].T.values[0], info.diseases[0]):\n",
    "                    if disease == _dis:\n",
    "                        trendline['x'] = np.append(trendline['x'], _x)\n",
    "                        trendline['y'] = np.append(trendline['y'], lines[disease][0] * _x + lines[disease][1])\n",
    "                trendline['x'] = np.append(trendline['x'], -.4)\n",
    "                trendline['y'] = np.append(trendline['y'], lines[disease][0] * -.4 + lines[disease][1])\n",
    "                trendline['x'] = np.append(trendline['x'], x[-1])\n",
    "                trendline['y'] = np.append(trendline['y'], y[-1])\n",
    "                \n",
    "                \n",
    "                corr = info.disease_specific_correlations[_paralog][disease]\n",
    "                \n",
    "                trendline['hovertemplate'] = f\"<b>{disease} trendline</b><br>\"\\\n",
    "                                             f\"Disease specific correlation: {corr:.3f}<br>\"\\\n",
    "                                             f\"Paralog: {get_gene_name(_paralog)[0]}\"\n",
    "                trendline['legendgroup']   = f\"{_paralog} trendlines{' good' if corr > thresh else ''}\"\n",
    "                trendline['name']          = f\"{get_gene_name(_paralog)[0].split()[0]} \"\\\n",
    "                                             f\"<b>Trendlines{f' [>{thresh}]' if corr > thresh else ''}</b>\"\n",
    "                if corr <= thresh:\n",
    "                    trendline['visible'] = 'legendonly'\n",
    "                    \n",
    "                # Only draw one legend entry and not for every trendline\n",
    "                if not rest_shown:\n",
    "                    if corr <= thresh:\n",
    "                        trendline['showlegend'] = True\n",
    "                        rest_shown = True\n",
    "                elif not good_shown and corr > thresh:\n",
    "                    trendline['showlegend'] = True\n",
    "                    good_shown = True\n",
    "\n",
    "                fig.add_trace(trendline)\n",
    "        \n",
    "    # Add some titles etc.\n",
    "    fig.update_layout(title=f'<b>Correlation plot of cell lines where {get_gene_name(gene_id)[0]} '\\\n",
    "                            f'is a dependency, with its interacting paralogs</b>', \n",
    "                      xaxis_title='Dependency score [CERES]',\n",
    "                      yaxis_title='Expression of paralog [log<sub>2</sub>(TPM+1)]',\n",
    "                      legend_title='<b>Paralogs [correlation]:</b>',\n",
    "                      hovermode='x',\n",
    "                      xaxis=dict(showspikes=True, spikethickness=1, spikecolor='DarkSlateGrey', \n",
    "                                 spikemode='across', range=[-2.5, -.4]),\n",
    "                      yaxis_range=[-.5, 10.0],\n",
    "                      showlegend=True,\n",
    "                     )\n",
    "    \n",
    "    fig.show()"
   ]
  },
  {
   "cell_type": "code",
   "execution_count": null,
   "metadata": {},
   "outputs": [],
   "source": [
    "for gene_id in selection.index:\n",
    "    try:\n",
    "        make_plot(gene_id, .5)\n",
    "    except Exception as e:\n",
    "        print(f\"Couldn't create plot for {get_gene_name(gene_id)[0]}: {e}\")"
   ]
  },
  {
   "cell_type": "markdown",
   "metadata": {},
   "source": [
    "### Create other plots"
   ]
  },
  {
   "cell_type": "code",
   "execution_count": null,
   "metadata": {},
   "outputs": [],
   "source": [
    "fig=plt.figure(figsize=(15, 7), dpi=128, facecolor='w', edgecolor='k')\n",
    "sns.set_style(\"whitegrid\")\n",
    "\n",
    "ax = sns.swarmplot(data=selection_diseases_scores.loc[selection_diseases_scores.disease.isin(PEDIATRIC_CANCERS)],\n",
    "                   x=\"gene\", y=\"score\", hue=\"disease\", size=8, palette=\"muted\")\n",
    "\n",
    "ax.set_xticklabels(ax.get_xticklabels(), rotation=90)\n",
    "# ax.axes.set_title(\"Scores accross pediatric diseases\",fontsize=20)\n",
    "ax.set_xlabel(None)\n",
    "ax.set_ylabel(\"Disease score\",fontsize=15)\n",
    "ax.tick_params(labelsize=12)\n",
    "\n",
    "plt.legend(bbox_to_anchor=(1.01, 1), loc=2, borderaxespad=0., title=\"Pediatric diseases\")\n",
    "plt.show()"
   ]
  },
  {
   "cell_type": "code",
   "execution_count": null,
   "metadata": {},
   "outputs": [],
   "source": [
    "dis_col_map = {d: \"b\" if d in PEDIATRIC_CANCERS else \"r\" for d in DISEASES}\n",
    "df = selection_diseases_scores.pivot(index=\"gene\", columns=\"disease\", values=\"score\").fillna(-1)\n",
    "sns.clustermap(df,\n",
    "               xticklabels=True, yticklabels=True, figsize=(10, 7), dendrogram_ratio=(.1, .2),\n",
    "               cbar_pos=(-.08,.345,.02,.5),\n",
    "               standard_scale=0,\n",
    "               vmin=0, cbar_kws=dict(label='Disease score'))\n",
    "\n",
    "plt.show()"
   ]
  },
  {
   "cell_type": "code",
   "execution_count": null,
   "metadata": {},
   "outputs": [],
   "source": [
    "lines_per_disease = {}\n",
    "for idx, row in tqdm(combined.iterrows(), total=len(combined)):\n",
    "    if row.n_lines > 2:\n",
    "        gene = f\"{row.gene} ({idx})\"\n",
    "        lines_per_disease[gene] = {}\n",
    "        for d in DISEASES:\n",
    "            if d in set([j for i in selection.diseases.values for j in i[0].values]):\n",
    "                lines_per_disease[gene][d] = 0\n",
    "        for cell_line in row.cell_lines:\n",
    "            if cell_line in cell_line_inf.index:\n",
    "                d = cell_line_inf.loc[cell_line].specified_disease\n",
    "                if d in lines_per_disease[gene].keys():\n",
    "                    lines_per_disease[gene][d] += 1\n",
    "        for d, cnt in DISEASES.items():\n",
    "            if d in lines_per_disease[gene].keys():\n",
    "                lines_per_disease[gene][d] /= cnt\n",
    "\n",
    "lines_per_disease = pd.DataFrame(lines_per_disease)\n",
    "lines_per_disease"
   ]
  },
  {
   "cell_type": "code",
   "execution_count": null,
   "metadata": {},
   "outputs": [],
   "source": [
    "fig=plt.figure(figsize=(10, 5), dpi=124, facecolor='w', edgecolor='k')\n",
    "sns.clustermap(lines_per_disease[[get_gene_name(i)[0] for i in selection.index]].T,\n",
    "               xticklabels=True, yticklabels=True, figsize=(10, 7), dendrogram_ratio=(.1, .3),\n",
    "               cbar_pos=(-.08,.325,.02,.455),\n",
    "               vmin=0, vmax=1, cbar_kws=dict(label='Relative dependency'))\n",
    "plt.xticks(rotation=45)\n",
    "plt.show()"
   ]
  },
  {
   "cell_type": "code",
   "execution_count": null,
   "metadata": {},
   "outputs": [],
   "source": [
    "fig=plt.figure(figsize=(10, 5), dpi=124, facecolor='w', edgecolor='k')\n",
    "sns.regplot(data=combined, x=\"n_paralogs\", y=\"max_correlation_all_paralogs\")\n",
    "plt.show()"
   ]
  },
  {
   "cell_type": "code",
   "execution_count": null,
   "metadata": {},
   "outputs": [],
   "source": [
    "def enr_vals(gene_id, cell_lines, name, typ, p_val, data=eff_data, cl_field=None, data_name=\"gene_effect\"):\n",
    "    dat_lines = set(data.index).intersection(cell_lines)\n",
    "    dat_vals = {data_name: list(data.loc[dat_lines, gene_id].values.flatten()),\n",
    "                \"gene\": [get_gene_name(gene_id)[0]]*len(dat_lines),\n",
    "                \"name\": [f\"{name} enrichment\\n(p_adj={p_val:.3f})\"]*len(dat_lines),\n",
    "                \"type\": [typ]*len(dat_lines)}\n",
    "    return dat_vals"
   ]
  },
  {
   "cell_type": "code",
   "execution_count": null,
   "metadata": {},
   "outputs": [],
   "source": [
    "data = {\"gene_effect\": [], \"name\": [], \"type\": [], \"gene\": []}\n",
    "for idx, row in selection.iterrows():\n",
    "    for enr_dis, inf in row.enriched_diseases.items():\n",
    "        for k, v in enr_vals(idx, cell_line_inf.loc[(cell_line_inf.specified_disease == enr_dis) & (cell_line_inf.index.isin(row.cell_lines))].index, enr_dis, \"enriched\", inf['p']).items():\n",
    "            data[k].extend(v)\n",
    "        for k, v in enr_vals(idx, cell_line_inf.loc[(cell_line_inf.specified_disease != enr_dis) & (cell_line_inf.index.isin(row.cell_lines))].index, enr_dis, \"other\", inf['p']).items():\n",
    "            data[k].extend(v)\n",
    "    \n",
    "data = pd.DataFrame(data)\n",
    "data"
   ]
  },
  {
   "cell_type": "code",
   "execution_count": null,
   "metadata": {},
   "outputs": [],
   "source": [
    "fig, axs = plt.subplots(len(set(data.gene)), sharex=True, figsize=(15, 19), dpi=124,\n",
    "                        gridspec_kw={'height_ratios': [len(set(data.loc[data.gene==i, \"name\"])) for i in sorted(set(data.gene))]})\n",
    "for ax, gene in zip(axs, sorted(set(data.gene))):\n",
    "    g = sns.boxplot(data=data.loc[data.gene==gene], x=\"gene_effect\", y=\"name\", hue=\"type\", orient=\"h\", ax=ax,\n",
    "                    palette=['royalblue', 'lightgray'])\n",
    "    g.set(ylabel=None, title=gene)\n",
    "    \n",
    "    plt.setp(ax.get_yticklabels(), fontsize=13)\n",
    "    \n",
    "    if ax != axs[0]:\n",
    "        g.legend_.remove()\n",
    "    else:\n",
    "        ax.legend()\n",
    "    if ax != axs[-1]:\n",
    "        g.set(xlabel=None)\n",
    "    else:\n",
    "        g.set(xlabel=\"Gene effect score (CERES)\")\n",
    "\n",
    "plt.show()"
   ]
  }
 ],
 "metadata": {
  "kernelspec": {
   "display_name": "Python 3",
   "language": "python",
   "name": "python3"
  },
  "language_info": {
   "codemirror_mode": {
    "name": "ipython",
    "version": 3
   },
   "file_extension": ".py",
   "mimetype": "text/x-python",
   "name": "python",
   "nbconvert_exporter": "python",
   "pygments_lexer": "ipython3",
   "version": "3.7.6"
  }
 },
 "nbformat": 4,
 "nbformat_minor": 4
}
